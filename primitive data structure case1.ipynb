{
 "cells": [
  {
   "cell_type": "code",
   "execution_count": 8,
   "id": "c2301e5f-49cb-4109-8d4b-42d9bf0b1ef0",
   "metadata": {},
   "outputs": [],
   "source": [
    "#Primitive data structure live class\n",
    "upah_per_jam= 30000\n",
    "nama_k1=\"joko\"\n",
    "nama_k2=\"Alex\"\n",
    "nama_k3=\"Chandra\"\n",
    "nama_k4=\"Hartono\"\n",
    "nama_k5=\"Samsul\""
   ]
  },
  {
   "cell_type": "code",
   "execution_count": 9,
   "id": "29654bc0-0ed1-40a8-96d2-1c6e856a9103",
   "metadata": {},
   "outputs": [],
   "source": [
    "jam_k1=44\n",
    "jam_k2=48\n",
    "jam_k3=50\n",
    "jam_k4=42\n",
    "jam_k5=45"
   ]
  },
  {
   "cell_type": "code",
   "execution_count": 10,
   "id": "d666d44a-fb00-4dea-a34d-8c2059ca3b4b",
   "metadata": {},
   "outputs": [],
   "source": [
    "upah_kotor1=jam_k1*upah_per_jam\n",
    "upah_kotor2=jam_k2*upah_per_jam\n",
    "upah_kotor3=jam_k3*upah_per_jam\n",
    "upah_kotor4=jam_k4*upah_per_jam\n",
    "upah_kotor5=jam_k5*upah_per_jam"
   ]
  },
  {
   "cell_type": "code",
   "execution_count": 11,
   "id": "d7d5685e-e201-45c2-8f8f-2d2d94e828b9",
   "metadata": {},
   "outputs": [
    {
     "name": "stdout",
     "output_type": "stream",
     "text": [
      "Upah Kerja (kotor) joko = RP 1320000\n",
      "Upah Kerja (kotor) Alex = RP 1440000\n",
      "Upah Kerja (kotor) Chandra = RP 1500000\n",
      "Upah Kerja (kotor) Hartono = RP 1260000\n",
      "Upah Kerja (kotor) Samsul = RP 1350000\n"
     ]
    }
   ],
   "source": [
    "print(f\"Upah Kerja (kotor) {nama_k1} = RP {upah_kotor1}\")\n",
    "print(f\"Upah Kerja (kotor) {nama_k2} = RP {upah_kotor2}\")\n",
    "print(f\"Upah Kerja (kotor) {nama_k3} = RP {upah_kotor3}\")\n",
    "print(f\"Upah Kerja (kotor) {nama_k4} = RP {upah_kotor4}\")\n",
    "print(f\"Upah Kerja (kotor) {nama_k5} = RP {upah_kotor5}\")"
   ]
  },
  {
   "cell_type": "code",
   "execution_count": 12,
   "id": "1da045c0-b5dc-45b4-965a-4eb475183633",
   "metadata": {},
   "outputs": [],
   "source": [
    "#Upah Lembur dari Seluruh Karyawan Perusahaan B"
   ]
  },
  {
   "cell_type": "code",
   "execution_count": 15,
   "id": "6193e804-6731-4def-b1d5-e49a042f6fe5",
   "metadata": {},
   "outputs": [
    {
     "name": "stdout",
     "output_type": "stream",
     "text": [
      "Upah Lembur joko = RP 420000\n",
      "Upah Lembur Alex = RP 385000\n",
      "Upah Lembur Chandra = RP 350000\n",
      "Upah Lembur Hartono = RP 525000\n",
      "Upah Lembur Samsul = RP 420000\n"
     ]
    }
   ],
   "source": [
    "upah_lembur=35000\n",
    "jam_lembur1=12\n",
    "jam_lembur2=11\n",
    "jam_lembur3=10\n",
    "jam_lembur4=15\n",
    "jam_lembur5=12\n",
    "lembur1= jam_lembur1*upah_lembur\n",
    "lembur2= jam_lembur2*upah_lembur\n",
    "lembur3= jam_lembur3*upah_lembur\n",
    "lembur4= jam_lembur4*upah_lembur\n",
    "lembur5= jam_lembur5*upah_lembur\n",
    "print(f\"Upah Lembur {nama_k1} = RP {lembur1}\")\n",
    "print(f\"Upah Lembur {nama_k2} = RP {lembur2}\")\n",
    "print(f\"Upah Lembur {nama_k3} = RP {lembur3}\")\n",
    "print(f\"Upah Lembur {nama_k4} = RP {lembur4}\")\n",
    "print(f\"Upah Lembur {nama_k5} = RP {lembur5}\")"
   ]
  },
  {
   "cell_type": "code",
   "execution_count": 16,
   "id": "e2fd2aee-f173-4cd5-aed3-acdd124b622d",
   "metadata": {},
   "outputs": [],
   "source": [
    "#Total Upah dari seluruh karyawan Perusahaan B"
   ]
  },
  {
   "cell_type": "code",
   "execution_count": 17,
   "id": "2efe334e-45cc-40a6-88e3-85c5845415a6",
   "metadata": {},
   "outputs": [
    {
     "name": "stdout",
     "output_type": "stream",
     "text": [
      "Total Upah joko = RP 1740000\n",
      "Total Upah Alex = RP 1825000\n",
      "Total Upah Chandra = RP 1850000\n",
      "Total Upah Hartono = RP 1785000\n",
      "Total Upah Samsul = RP 1770000\n"
     ]
    }
   ],
   "source": [
    "tot_upah1=upah_kotor1+lembur1\n",
    "tot_upah2=upah_kotor2+lembur2\n",
    "tot_upah3=upah_kotor3+lembur3\n",
    "tot_upah4=upah_kotor4+lembur4\n",
    "tot_upah5=upah_kotor5+lembur5\n",
    "print(f\"Total Upah {nama_k1} = RP {tot_upah1}\")\n",
    "print(f\"Total Upah {nama_k2} = RP {tot_upah2}\")\n",
    "print(f\"Total Upah {nama_k3} = RP {tot_upah3}\")\n",
    "print(f\"Total Upah {nama_k4} = RP {tot_upah4}\")\n",
    "print(f\"Total Upah {nama_k5} = RP {tot_upah5}\")"
   ]
  },
  {
   "cell_type": "code",
   "execution_count": 19,
   "id": "9f500b41-a9c6-4769-bf98-0b21ee87a8f0",
   "metadata": {},
   "outputs": [],
   "source": [
    "#Pajak penghasilan karyawan perusahaan B"
   ]
  },
  {
   "cell_type": "code",
   "execution_count": 23,
   "id": "100efd97-5a08-432d-944b-3349420a0e7d",
   "metadata": {},
   "outputs": [
    {
     "name": "stdout",
     "output_type": "stream",
     "text": [
      "Total Pajak joko = RP 87000.0\n",
      "Total Pajak Alex = RP 91250.0\n",
      "Total Pajak Chandra = RP 92500.0\n",
      "Total Pajak Hartono = RP 89250.0\n",
      "Total Pajak Samsul = RP 88500.0\n"
     ]
    }
   ],
   "source": [
    "pajak = 0.05\n",
    "tot_pajak1= tot_upah1*pajak\n",
    "tot_pajak2= tot_upah2*pajak\n",
    "tot_pajak3= tot_upah3*pajak\n",
    "tot_pajak4= tot_upah4*pajak\n",
    "tot_pajak5= tot_upah5*pajak\n",
    "print(f\"Total Pajak {nama_k1} = RP {tot_pajak1}\")\n",
    "print(f\"Total Pajak {nama_k2} = RP {tot_pajak2}\")\n",
    "print(f\"Total Pajak {nama_k3} = RP {tot_pajak3}\")\n",
    "print(f\"Total Pajak {nama_k4} = RP {tot_pajak4}\")\n",
    "print(f\"Total Pajak {nama_k5} = RP {tot_pajak5}\")"
   ]
  },
  {
   "cell_type": "code",
   "execution_count": 24,
   "id": "360c2218-3cb4-4f0a-96e5-bf4400664809",
   "metadata": {},
   "outputs": [],
   "source": [
    "#Total Upah Nett Karyawan Perusahaan B"
   ]
  },
  {
   "cell_type": "code",
   "execution_count": 26,
   "id": "f5076ecd-c720-49a2-93ad-c70b61127b4b",
   "metadata": {},
   "outputs": [
    {
     "name": "stdout",
     "output_type": "stream",
     "text": [
      "Total Upah (Netto) joko = RP 1653000.0\n",
      "Total Upah (Netto) Alex = RP 1733750.0\n",
      "Total Upah (Netto) Chandra = RP 1757500.0\n",
      "Total Upah (Netto) Hartono = RP 1695750.0\n",
      "Total Upah (Netto) Samsul = RP 1681500.0\n"
     ]
    }
   ],
   "source": [
    "nett1= tot_upah1-tot_pajak1\n",
    "nett2= tot_upah2-tot_pajak2\n",
    "nett3= tot_upah3-tot_pajak3\n",
    "nett4= tot_upah4-tot_pajak4\n",
    "nett5= tot_upah5-tot_pajak5\n",
    "print(f\"Total Upah (Netto) {nama_k1} = RP {nett1}\")\n",
    "print(f\"Total Upah (Netto) {nama_k2} = RP {nett2}\")\n",
    "print(f\"Total Upah (Netto) {nama_k3} = RP {nett3}\")\n",
    "print(f\"Total Upah (Netto) {nama_k4} = RP {nett4}\")\n",
    "print(f\"Total Upah (Netto) {nama_k5} = RP {nett5}\")"
   ]
  },
  {
   "cell_type": "code",
   "execution_count": 27,
   "id": "f686ef23-62e8-415d-a32c-fc9fe6ddb8fa",
   "metadata": {},
   "outputs": [],
   "source": [
    "#Jumlah Total Upah Karyawan Perusahaan B"
   ]
  },
  {
   "cell_type": "code",
   "execution_count": 28,
   "id": "8e639e17-8062-433f-b4d2-112a14b2c2a9",
   "metadata": {},
   "outputs": [
    {
     "name": "stdout",
     "output_type": "stream",
     "text": [
      "Jumlah total upah karyawan perusahaan B adalah = RP 8521500.0\n"
     ]
    }
   ],
   "source": [
    "total = nett1+nett2+nett3+nett4+nett5\n",
    "print (f\"Jumlah total upah karyawan perusahaan B adalah = RP {total}\")"
   ]
  },
  {
   "cell_type": "code",
   "execution_count": 29,
   "id": "a375ed30-188d-4ddb-b908-c1eb21b7612d",
   "metadata": {},
   "outputs": [],
   "source": [
    "#Jumlah Rata-rata Upah Karyawan Perusahaan B"
   ]
  },
  {
   "cell_type": "code",
   "execution_count": 30,
   "id": "f35facd3-1617-4188-8dfa-399a8fb96976",
   "metadata": {},
   "outputs": [
    {
     "name": "stdout",
     "output_type": "stream",
     "text": [
      "Rata-rata upah karyawan Perusahaan B adalah = RP 1704300.0\n"
     ]
    }
   ],
   "source": [
    "karyawan = 5\n",
    "rata_upah = total/karyawan\n",
    "print(f\"Rata-rata upah karyawan Perusahaan B adalah = RP {rata_upah}\")"
   ]
  }
 ],
 "metadata": {
  "kernelspec": {
   "display_name": "Python 3 (ipykernel)",
   "language": "python",
   "name": "python3"
  },
  "language_info": {
   "codemirror_mode": {
    "name": "ipython",
    "version": 3
   },
   "file_extension": ".py",
   "mimetype": "text/x-python",
   "name": "python",
   "nbconvert_exporter": "python",
   "pygments_lexer": "ipython3",
   "version": "3.10.12"
  }
 },
 "nbformat": 4,
 "nbformat_minor": 5
}
